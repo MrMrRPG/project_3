{
 "cells": [
  {
   "cell_type": "code",
   "execution_count": 1,
   "id": "beebe046",
   "metadata": {},
   "outputs": [],
   "source": [
    "import os\n",
    "import requests"
   ]
  },
  {
   "cell_type": "code",
   "execution_count": 4,
   "id": "7ab79e29",
   "metadata": {},
   "outputs": [],
   "source": [
    "base_url = \"https://explorer.lichess.ovh/master\"\n",
    "fen = \"fen=rnbqkbnr/ppp1pppp/8/3pP3/8/8/PPPP1PPP/RNBQKBNR b KQkq - 0 2\"\n",
    "moves = \"e4,e5\""
   ]
  },
  {
   "cell_type": "code",
   "execution_count": 6,
   "id": "cd85367b",
   "metadata": {},
   "outputs": [
    {
     "data": {
      "text/plain": [
       "<Response [404]>"
      ]
     },
     "execution_count": 6,
     "metadata": {},
     "output_type": "execute_result"
    }
   ],
   "source": [
    "full_url = base_url + fen + moves\n",
    "requests.get(full_url)"
   ]
  },
  {
   "cell_type": "code",
   "execution_count": null,
   "id": "a5d2850f",
   "metadata": {},
   "outputs": [],
   "source": []
  }
 ],
 "metadata": {
  "kernelspec": {
   "display_name": "Python 3",
   "language": "python",
   "name": "python3"
  },
  "language_info": {
   "codemirror_mode": {
    "name": "ipython",
    "version": 3
   },
   "file_extension": ".py",
   "mimetype": "text/x-python",
   "name": "python",
   "nbconvert_exporter": "python",
   "pygments_lexer": "ipython3",
   "version": "3.8.8"
  }
 },
 "nbformat": 4,
 "nbformat_minor": 5
}
