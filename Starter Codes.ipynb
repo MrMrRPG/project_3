{
 "cells": [
  {
   "cell_type": "code",
   "execution_count": 1,
   "id": "e815c360",
   "metadata": {},
   "outputs": [],
   "source": [
    "# Importing dependencies\n",
    "import pandas as pd\n",
    "import requests\n",
    "import json\n",
    "from sqlalchemy import create_engine"
   ]
  },
  {
   "cell_type": "code",
   "execution_count": 21,
   "id": "002688e1",
   "metadata": {},
   "outputs": [],
   "source": [
    "# URL for GET requests to retrieve player data from Chess.com\n",
    "#Sorry Josh but i'm using your stats as my test code\n",
    "url = \"https://api.chess.com/pub/player/mrmrrpg/stats\""
   ]
  },
  {
   "cell_type": "code",
   "execution_count": 22,
   "id": "984c3b61",
   "metadata": {},
   "outputs": [
    {
     "name": "stdout",
     "output_type": "stream",
     "text": [
      "{\n",
      "    \"chess_blitz\": {\n",
      "        \"best\": {\n",
      "            \"date\": 1521097200,\n",
      "            \"game\": \"https://www.chess.com/game/live/2760361424\",\n",
      "            \"rating\": 1200\n",
      "        },\n",
      "        \"last\": {\n",
      "            \"date\": 1632773908,\n",
      "            \"rating\": 624,\n",
      "            \"rd\": 168\n",
      "        },\n",
      "        \"record\": {\n",
      "            \"draw\": 1,\n",
      "            \"loss\": 65,\n",
      "            \"win\": 51\n",
      "        }\n",
      "    },\n",
      "    \"chess_bullet\": {\n",
      "        \"best\": {\n",
      "            \"date\": 1524553200,\n",
      "            \"game\": \"https://www.chess.com/game/live/2771558894\",\n",
      "            \"rating\": 1200\n",
      "        },\n",
      "        \"last\": {\n",
      "            \"date\": 1540000754,\n",
      "            \"rating\": 812,\n",
      "            \"rd\": 131\n",
      "        },\n",
      "        \"record\": {\n",
      "            \"draw\": 0,\n",
      "            \"loss\": 7,\n",
      "            \"win\": 2\n",
      "        }\n",
      "    },\n",
      "    \"chess_daily\": {\n",
      "        \"best\": {\n",
      "            \"date\": 1520305014,\n",
      "            \"game\": \"https://www.chess.com/game/daily/262093512\",\n",
      "            \"rating\": 1200\n",
      "        },\n",
      "        \"last\": {\n",
      "            \"date\": 1595702402,\n",
      "            \"rating\": 993,\n",
      "            \"rd\": 160\n",
      "        },\n",
      "        \"record\": {\n",
      "            \"draw\": 0,\n",
      "            \"loss\": 10,\n",
      "            \"time_per_move\": 17600,\n",
      "            \"timeout_percent\": 0,\n",
      "            \"win\": 2\n",
      "        }\n",
      "    },\n",
      "    \"chess_rapid\": {\n",
      "        \"best\": {\n",
      "            \"date\": 1521010800,\n",
      "            \"game\": \"https://www.chess.com/game/live/5891022515\",\n",
      "            \"rating\": 1200\n",
      "        },\n",
      "        \"last\": {\n",
      "            \"date\": 1631488484,\n",
      "            \"rating\": 875,\n",
      "            \"rd\": 110\n",
      "        },\n",
      "        \"record\": {\n",
      "            \"draw\": 3,\n",
      "            \"loss\": 29,\n",
      "            \"win\": 27\n",
      "        }\n",
      "    },\n",
      "    \"fide\": 0,\n",
      "    \"lessons\": {},\n",
      "    \"puzzle_rush\": {},\n",
      "    \"tactics\": {\n",
      "        \"highest\": {\n",
      "            \"date\": 1524300388,\n",
      "            \"rating\": 810\n",
      "        },\n",
      "        \"lowest\": {\n",
      "            \"date\": 1532261480,\n",
      "            \"rating\": 769\n",
      "        }\n",
      "    }\n",
      "}\n"
     ]
    }
   ],
   "source": [
    "# Pretty Print the output of the JSON\n",
    "response = requests.get(url).json()\n",
    "print(json.dumps(response, indent=4, sort_keys=True))"
   ]
  },
  {
   "cell_type": "code",
   "execution_count": 23,
   "id": "7ee5869e",
   "metadata": {},
   "outputs": [
    {
     "ename": "AttributeError",
     "evalue": "'dict' object has no attribute 'data'",
     "output_type": "error",
     "traceback": [
      "\u001b[1;31m---------------------------------------------------------------------------\u001b[0m",
      "\u001b[1;31mAttributeError\u001b[0m                            Traceback (most recent call last)",
      "\u001b[1;32m<ipython-input-23-754c3ac1567f>\u001b[0m in \u001b[0;36m<module>\u001b[1;34m\u001b[0m\n\u001b[1;32m----> 1\u001b[1;33m \u001b[0mdata\u001b[0m \u001b[1;33m=\u001b[0m \u001b[0mresponse\u001b[0m\u001b[1;33m.\u001b[0m\u001b[0mdata\u001b[0m\u001b[1;33m\u001b[0m\u001b[1;33m\u001b[0m\u001b[0m\n\u001b[0m",
      "\u001b[1;31mAttributeError\u001b[0m: 'dict' object has no attribute 'data'"
     ]
    }
   ],
   "source": [
    "data = response.data"
   ]
  },
  {
   "cell_type": "code",
   "execution_count": 17,
   "id": "f1a2400a",
   "metadata": {},
   "outputs": [
    {
     "name": "stdout",
     "output_type": "stream",
     "text": [
      "{'error': 'Missing authorization header'}\n"
     ]
    }
   ],
   "source": [
    "# Retrieving data and converting it into JSON\n",
    "print(requests.get(url).json())"
   ]
  },
  {
   "cell_type": "code",
   "execution_count": 18,
   "id": "175a29c7",
   "metadata": {},
   "outputs": [
    {
     "name": "stdout",
     "output_type": "stream",
     "text": [
      "{\n",
      "    \"error\": \"Missing authorization header\"\n",
      "}\n"
     ]
    }
   ],
   "source": [
    "# Pretty Print the output of the JSON\n",
    "response = requests.get(url).json()\n",
    "print(json.dumps(response, indent=4, sort_keys=True))"
   ]
  },
  {
   "cell_type": "code",
   "execution_count": 14,
   "id": "23dda0e9",
   "metadata": {},
   "outputs": [],
   "source": [
    "# URL for GET requests to retrieve player data from Lichess.com\n",
    "url = \"https://lichess.org/api/account\""
   ]
  },
  {
   "cell_type": "code",
   "execution_count": 15,
   "id": "00aaab33",
   "metadata": {},
   "outputs": [
    {
     "name": "stdout",
     "output_type": "stream",
     "text": [
      "{'error': 'Missing authorization header'}\n"
     ]
    }
   ],
   "source": [
    "# Retrieving data and converting it into JSON\n",
    "print(requests.get(url).json())"
   ]
  },
  {
   "cell_type": "code",
   "execution_count": null,
   "id": "72acb1f6",
   "metadata": {},
   "outputs": [],
   "source": [
    "# Placeholder dataframe\n",
    "csv_file = \"\"\n",
    "df = pd.read_csv(csv_file, encoding=\"ISO-8859-1\")\n"
   ]
  },
  {
   "cell_type": "code",
   "execution_count": null,
   "id": "6ecb112d",
   "metadata": {},
   "outputs": [],
   "source": [
    "# Creating a database connection\n",
    "rds_connection_string = \"postgres:postgres@localhost:5432/gaming_db\"\n",
    "engine = create_engine(f'postgresql://{rds_connection_string}')"
   ]
  },
  {
   "cell_type": "code",
   "execution_count": null,
   "id": "7ccdbb46",
   "metadata": {},
   "outputs": [],
   "source": [
    "# Loading tables into gaming_db\n",
    "Esport_data_df.to_sql(name='Esport_data',con=engine,if_exists='append', index=False)"
   ]
  },
  {
   "cell_type": "code",
   "execution_count": null,
   "id": "39764ace",
   "metadata": {},
   "outputs": [],
   "source": [
    "# Confirm tables\n",
    "engine.table_names()"
   ]
  }
 ],
 "metadata": {
  "kernelspec": {
   "display_name": "Python 3",
   "language": "python",
   "name": "python3"
  },
  "language_info": {
   "codemirror_mode": {
    "name": "ipython",
    "version": 3
   },
   "file_extension": ".py",
   "mimetype": "text/x-python",
   "name": "python",
   "nbconvert_exporter": "python",
   "pygments_lexer": "ipython3",
   "version": "3.8.8"
  }
 },
 "nbformat": 4,
 "nbformat_minor": 5
}
