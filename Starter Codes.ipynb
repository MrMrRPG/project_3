{
 "cells": [
  {
   "cell_type": "code",
   "execution_count": 1,
   "id": "e815c360",
   "metadata": {},
   "outputs": [],
   "source": [
    "# Importing dependencies\n",
    "import pandas as pd\n",
    "import requests\n",
    "import json\n",
    "from sqlalchemy import create_engine"
   ]
  },
  {
   "cell_type": "code",
   "execution_count": 8,
   "id": "efc4ee78",
   "metadata": {},
   "outputs": [],
   "source": [
    "# URL for GET requests to retrieve player data from Chess.com\n",
    "url = \"https://api.chess.com/pub/player/mrmrrpg\""
   ]
  },
  {
   "cell_type": "code",
   "execution_count": 9,
   "id": "90052754",
   "metadata": {},
   "outputs": [
    {
     "name": "stdout",
     "output_type": "stream",
     "text": [
      "{'avatar': 'https://images.chesscomfiles.com/uploads/v1/user/43984034.4fba7b05.200x200o.a762af5b15a4.jpeg', 'player_id': 43984034, '@id': 'https://api.chess.com/pub/player/mrmrrpg', 'url': 'https://www.chess.com/member/MrMrRPG', 'name': 'Joshua Ng', 'username': 'mrmrrpg', 'followers': 8, 'country': 'https://api.chess.com/pub/country/US', 'last_online': 1632771533, 'joined': 1520305014, 'status': 'basic', 'is_streamer': False}\n"
     ]
    }
   ],
   "source": [
    "# Retrieving data and converting it into JSON\n",
    "print(requests.get(url).json())"
   ]
  },
  {
   "cell_type": "code",
   "execution_count": 14,
   "id": "07962371",
   "metadata": {},
   "outputs": [],
   "source": [
    "# URL for GET requests to retrieve player data from Lichess.com\n",
    "url = \"https://lichess.org/api/account\""
   ]
  },
  {
   "cell_type": "code",
   "execution_count": 15,
   "id": "b8412886",
   "metadata": {},
   "outputs": [
    {
     "name": "stdout",
     "output_type": "stream",
     "text": [
      "{'error': 'Missing authorization header'}\n"
     ]
    }
   ],
   "source": [
    "# Retrieving data and converting it into JSON\n",
    "print(requests.get(url).json())"
   ]
  },
  {
   "cell_type": "code",
   "execution_count": null,
   "id": "72acb1f6",
   "metadata": {},
   "outputs": [],
   "source": [
    "# Placeholder dataframe\n",
    "csv_file = \"\"\n",
    "df = pd.read_csv(csv_file, encoding=\"ISO-8859-1\")\n"
   ]
  },
  {
   "cell_type": "code",
   "execution_count": null,
   "id": "6ecb112d",
   "metadata": {},
   "outputs": [],
   "source": [
    "# Creating a database connection\n",
    "rds_connection_string = \"postgres:postgres@localhost:5432/gaming_db\"\n",
    "engine = create_engine(f'postgresql://{rds_connection_string}')"
   ]
  },
  {
   "cell_type": "code",
   "execution_count": null,
   "id": "7ccdbb46",
   "metadata": {},
   "outputs": [],
   "source": [
    "# Loading tables into gaming_db\n",
    "Esport_data_df.to_sql(name='Esport_data',con=engine,if_exists='append', index=False)"
   ]
  },
  {
   "cell_type": "code",
   "execution_count": null,
   "id": "39764ace",
   "metadata": {},
   "outputs": [],
   "source": [
    "# Confirm tables\n",
    "engine.table_names()"
   ]
  }
 ],
 "metadata": {
  "kernelspec": {
   "display_name": "Python 3",
   "language": "python",
   "name": "python3"
  },
  "language_info": {
   "codemirror_mode": {
    "name": "ipython",
    "version": 3
   },
   "file_extension": ".py",
   "mimetype": "text/x-python",
   "name": "python",
   "nbconvert_exporter": "python",
   "pygments_lexer": "ipython3",
   "version": "3.8.8"
  }
 },
 "nbformat": 4,
 "nbformat_minor": 5
}
